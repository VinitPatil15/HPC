{
  "nbformat": 4,
  "nbformat_minor": 0,
  "metadata": {
    "colab": {
      "provenance": [],
      "gpuType": "T4"
    },
    "kernelspec": {
      "name": "python3",
      "display_name": "Python 3"
    },
    "language_info": {
      "name": "python"
    },
    "accelerator": "GPU"
  },
  "cells": [
    {
      "cell_type": "code",
      "execution_count": 3,
      "metadata": {
        "colab": {
          "base_uri": "https://localhost:8080/"
        },
        "id": "EUUrRpAtm5NY",
        "outputId": "8c22e045-ec36-46b9-a9c1-5900bfc6039f"
      },
      "outputs": [
        {
          "output_type": "stream",
          "name": "stdout",
          "text": [
            "Overwriting merge_sort.cu\n"
          ]
        }
      ],
      "source": [
        "%%writefile merge_sort.cu\n",
        "#include <iostream>\n",
        "#include <vector>\n",
        "#include <chrono>\n",
        "#include <algorithm> // for min function\n",
        "using namespace std;\n",
        "// Kernel to merge two sorted halves\n",
        "__global__ void kernel_merge(int* arr, int* temp, int* subarray_sizes, int array_size) {\n",
        "int idx = blockIdx.x * blockDim.x + threadIdx.x; //calculating globalthread id\n",
        "int left_start = idx * 2 * (*subarray_sizes);\n",
        "if (left_start < array_size) {\n",
        "int mid = min(left_start + (*subarray_sizes) - 1, array_size - 1);\n",
        "int right_end = min(left_start + 2 * (*subarray_sizes) - 1, array_size - 1);\n",
        "int i = left_start;\n",
        "int j = mid + 1;\n",
        "int k = left_start;\n",
        "// Merge process\n",
        "while (i <= mid && j <= right_end) {\n",
        "if (arr[i] <= arr[j]) {\n",
        "temp[k] = arr[i];\n",
        "i++;\n",
        "} else {\n",
        "temp[k] = arr[j];\n",
        "j++;\n",
        "}\n",
        "k++;\n",
        "}\n",
        "while (i <= mid) {\n",
        "temp[k] = arr[i];\n",
        "i++;\n",
        "k++;\n",
        "}\n",
        "while (j <= right_end) {\n",
        "temp[k] = arr[j];\n",
        "j++;\n",
        "k++;\n",
        "}\n",
        "// Copy the sorted subarray back to the original array\n",
        "for (int t = left_start; t <= right_end; t++) {\n",
        "arr[t] = temp[t];\n",
        "}\n",
        "}\n",
        "}\n",
        "void merge_sort(vector<int>& arr) {\n",
        "int array_size = arr.size();\n",
        "int* d_arr;\n",
        "int* d_temp;\n",
        "int* d_subarray_size;\n",
        "// Allocate memory on the GPU\n",
        "cudaMalloc(&d_arr, array_size * sizeof(int));\n",
        "cudaMalloc(&d_temp, array_size * sizeof(int));\n",
        "cudaMalloc(&d_subarray_size, sizeof(int)); // Holds the subarray size for each step\n",
        "cudaMemcpy(d_arr, arr.data(), array_size * sizeof(int),\n",
        "cudaMemcpyHostToDevice);\n",
        "int blockSize = 256; // Threads per block\n",
        "int gridSize; // Number of blocks in the grid, depending on the subarray size\n",
        "// Start with width of 1, then double each iteration\n",
        "int width = 1;\n",
        "while (width < array_size) {\n",
        "cudaMemcpy(d_subarray_size, &width, sizeof(int),\n",
        "cudaMemcpyHostToDevice);\n",
        "gridSize = (array_size / (2 * width)) + 1;\n",
        "kernel_merge<<<gridSize, blockSize>>>(d_arr, d_temp, d_subarray_size, array_size);\n",
        "cudaDeviceSynchronize(); // Ensure all threads finish before the next step\n",
        "// Double the subarray width for the next iteration\n",
        "width *= 2;\n",
        "}\n",
        "// Copy the sorted array back to the host\n",
        "cudaMemcpy(arr.data(), d_arr, array_size * sizeof(int),\n",
        "cudaMemcpyDeviceToHost);\n",
        "// Free GPU memory\n",
        "cudaFree(d_arr);\n",
        "cudaFree(d_temp);\n",
        "cudaFree(d_subarray_size);\n",
        "}\n",
        "int main() {\n",
        "vector<int> arr = {6, 5, 4, 1, 7, 9, 8, 3, 2};\n",
        "double start, end;\n",
        "start =\n",
        "chrono::duration_cast<chrono::milliseconds>(chrono::system_clock::now().time_since_epoch()).count();\n",
        "merge_sort(arr);\n",
        "end =\n",
        "chrono::duration_cast<chrono::milliseconds>(chrono::system_clock::now().time_since_epoch()).count();\n",
        "cout << \"Parallel merge sort time: \" << end - start << \" milliseconds\"<< endl;\n",
        "cout << \"Sorted array: \";\n",
        "for (int num : arr) {\n",
        "cout << num << \" \";\n",
        "}\n",
        "cout << endl;\n",
        "return 0;\n",
        "}\n"
      ]
    },
    {
      "cell_type": "code",
      "source": [
        "!nvcc merge_sort.cu -o merge_sort"
      ],
      "metadata": {
        "id": "Ke0TqikxnTLp"
      },
      "execution_count": 4,
      "outputs": []
    },
    {
      "cell_type": "code",
      "source": [
        "!./merge_sort"
      ],
      "metadata": {
        "colab": {
          "base_uri": "https://localhost:8080/"
        },
        "id": "IbvidplMneYq",
        "outputId": "fb2f18af-0921-44a6-d50c-0e7d1e0e643e"
      },
      "execution_count": 5,
      "outputs": [
        {
          "output_type": "stream",
          "name": "stdout",
          "text": [
            "Parallel merge sort time: 459 milliseconds\n",
            "Sorted array: 1 2 3 4 5 6 7 8 9 \n"
          ]
        }
      ]
    },
    {
      "cell_type": "code",
      "source": [],
      "metadata": {
        "id": "meV2d2oVn7iX"
      },
      "execution_count": null,
      "outputs": []
    }
  ]
}