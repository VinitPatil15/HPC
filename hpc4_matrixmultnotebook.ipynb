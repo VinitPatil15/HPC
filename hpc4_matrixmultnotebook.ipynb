{
  "nbformat": 4,
  "nbformat_minor": 0,
  "metadata": {
    "colab": {
      "provenance": [],
      "gpuType": "T4"
    },
    "kernelspec": {
      "name": "python3",
      "display_name": "Python 3"
    },
    "language_info": {
      "name": "python"
    },
    "accelerator": "GPU"
  },
  "cells": [
    {
      "cell_type": "code",
      "execution_count": 1,
      "metadata": {
        "colab": {
          "base_uri": "https://localhost:8080/"
        },
        "id": "3oKSHRBDkD51",
        "outputId": "d7721eb6-20e4-4edb-b7b7-65faf9d3c493"
      },
      "outputs": [
        {
          "output_type": "stream",
          "name": "stdout",
          "text": [
            "Writing matrixmult.cu\n"
          ]
        }
      ],
      "source": [
        "%%writefile matrixmult.cu\n",
        "#include <iostream>\n",
        "#include <cuda.h>\n",
        "using namespace std;\n",
        "#define BLOCK_SIZE 1\n",
        "__global__ void gpuMM(float *A, float *B, float *C, int N) {\n",
        "int row = blockIdx.y * blockDim.y + threadIdx.y;\n",
        "int col = blockIdx.x * blockDim.x + threadIdx.x;\n",
        "float sum = 0.f;\n",
        "for (int n = 0; n < N; ++n)\n",
        "sum += A[row * N + n] * B[n * N + col];\n",
        "C[row * N + col] = sum;\n",
        "}\n",
        "int main(int argc, char *argv[]) {\n",
        "int N;\n",
        "// Get matrix size from user\n",
        "cout << \"Enter size of matrix (N): \";\n",
        "cin >> N;\n",
        "if (N % BLOCK_SIZE != 0) {\n",
        "cerr << \"Matrix size must be a multiple of BLOCK_SIZE.\" << endl;\n",
        "return 1;\n",
        "}\n",
        "cout << \"\\nExecuting Matrix Multiplication\" << endl;\n",
        "cout << \"Matrix size: \" << N << \"x\" << N << endl;\n",
        "// Allocate memory for matrices on the host\n",
        "float *hA, *hB, *hC;\n",
        "hA = new float[N * N];\n",
        "hB = new float[N * N];\n",
        "hC = new float[N * N];\n",
        "// Read matrices from user\n",
        "cout << \"Enter elements of matrix A (\" << N << \"x\" << N << \"):\" << endl;\n",
        "for (int i = 0; i < N * N; ++i)\n",
        "cin >> hA[i];\n",
        "cout << \"Enter elements of matrix B (\" << N << \"x\" << N << \"):\" << endl;\n",
        "for (int i = 0; i < N * N; ++i)\n",
        "cin >> hB[i];\n",
        "// Allocate memory for matrices on the device\n",
        "int size = N * N * sizeof(float);\n",
        "float *dA, *dB, *dC;\n",
        "cudaMalloc(&dA, size);\n",
        "cudaMalloc(&dB, size);\n",
        "cudaMalloc(&dC, size);\n",
        "// Copy matrices from the host to the device\n",
        "cudaMemcpy(dA, hA, size, cudaMemcpyHostToDevice);\n",
        "cudaMemcpy(dB, hB, size, cudaMemcpyHostToDevice);\n",
        "dim3 threadBlock(BLOCK_SIZE, BLOCK_SIZE);\n",
        "dim3 grid(N / BLOCK_SIZE, N / BLOCK_SIZE);\n",
        "// Execute the matrix multiplication kernel\n",
        "gpuMM<<<grid, threadBlock>>>(dA, dB, dC, N);\n",
        "// Copy the result matrix from the device to the host\n",
        "cudaMemcpy(hC, dC, size, cudaMemcpyDeviceToHost);\n",
        "// Display the result matrix\n",
        "cout << \"\\nResultant matrix:\\n\";\n",
        "for (int row = 0; row < N; row++) {\n",
        "for (int col = 0; col < N; col++) {\n",
        "cout << hC[row * N + col] << \" \";\n",
        "}\n",
        "cout << endl;\n",
        "}\n",
        "// Free device memory\n",
        "cudaFree(dA);\n",
        "cudaFree(dB);\n",
        "cudaFree(dC);\n",
        "// Free host memory\n",
        "delete[] hA;\n",
        "delete[] hB;\n",
        "delete[] hC;\n",
        "cout << \"Finished.\" << endl;\n",
        "return 0;\n",
        "}"
      ]
    },
    {
      "cell_type": "code",
      "source": [
        "!nvcc matrixmult.cu -o matrixmult"
      ],
      "metadata": {
        "id": "pTNVYQxckiXF"
      },
      "execution_count": 2,
      "outputs": []
    },
    {
      "cell_type": "code",
      "source": [
        "!./matrixmult"
      ],
      "metadata": {
        "colab": {
          "base_uri": "https://localhost:8080/"
        },
        "id": "JKZECbL2ktCM",
        "outputId": "95d71599-92fc-478d-92b9-8214d5787101"
      },
      "execution_count": 3,
      "outputs": [
        {
          "output_type": "stream",
          "name": "stdout",
          "text": [
            "Enter size of matrix (N): 3\n",
            "\n",
            "Executing Matrix Multiplication\n",
            "Matrix size: 3x3\n",
            "Enter elements of matrix A (3x3):\n",
            "1 2 3\n",
            "4 5 6\n",
            "7 8 9\n",
            "Enter elements of matrix B (3x3):\n",
            "9 8 7\n",
            "6 5 4\n",
            "3 2 1\n",
            "\n",
            "Resultant matrix:\n",
            "30 24 18 \n",
            "84 69 54 \n",
            "138 114 90 \n",
            "Finished.\n"
          ]
        }
      ]
    },
    {
      "cell_type": "code",
      "source": [],
      "metadata": {
        "id": "XF65cZWykwve"
      },
      "execution_count": null,
      "outputs": []
    }
  ]
}