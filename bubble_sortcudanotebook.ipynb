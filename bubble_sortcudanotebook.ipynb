{
  "nbformat": 4,
  "nbformat_minor": 0,
  "metadata": {
    "colab": {
      "provenance": [],
      "gpuType": "T4"
    },
    "kernelspec": {
      "name": "python3",
      "display_name": "Python 3"
    },
    "language_info": {
      "name": "python"
    },
    "accelerator": "GPU"
  },
  "cells": [
    {
      "cell_type": "code",
      "execution_count": 1,
      "metadata": {
        "colab": {
          "base_uri": "https://localhost:8080/"
        },
        "id": "GhygrF_spFBl",
        "outputId": "ea308b0f-ca21-4703-f453-03e8dae2f90c"
      },
      "outputs": [
        {
          "output_type": "stream",
          "name": "stdout",
          "text": [
            "Writing bubble.cu\n"
          ]
        }
      ],
      "source": [
        "%%writefile bubble.cu\n",
        "#include <iostream>\n",
        "#include <vector>\n",
        "#include <chrono>\n",
        "using namespace std;\n",
        "__device__ void device_swap(int& a, int& b) {\n",
        "int temp = a;\n",
        "a = b;\n",
        "b = temp;\n",
        "}\n",
        "__global__ void kernel_bubble_sort_odd_even(int* arr, int size) {\n",
        "bool isSorted = false;\n",
        "while (!isSorted) {\n",
        "isSorted = true;\n",
        "int tid = blockIdx.x * blockDim.x + threadIdx.x; //calculating gloable thread id.\n",
        "if (tid % 2 == 0 && tid < size - 1) {\n",
        "if (arr[tid] > arr[tid + 1]) {\n",
        "device_swap(arr[tid], arr[tid + 1]);\n",
        "isSorted = false;\n",
        "}\n",
        "}\n",
        "__syncthreads(); // Synchronize threads within block\n",
        "if (tid % 2 != 0 && tid < size - 1) {\n",
        "if (arr[tid] > arr[tid + 1]) {\n",
        "device_swap(arr[tid], arr[tid + 1]);\n",
        "isSorted = false;\n",
        "}\n",
        "}\n",
        "__syncthreads(); // Synchronize threads within block\n",
        "}\n",
        "}\n",
        "void bubble_sort_odd_even(vector<int>& arr) {\n",
        "int size = arr.size();\n",
        "int* d_arr;\n",
        "cudaMalloc(&d_arr, size * sizeof(int));\n",
        "cudaMemcpy(d_arr, arr.data(), size * sizeof(int),\n",
        "cudaMemcpyHostToDevice);\n",
        "// Calculate grid and block dimensions\n",
        "int blockSize = 256;\n",
        "int gridSize = (size + blockSize - 1) / blockSize;\n",
        "// Perform bubble sort on GPU\n",
        "kernel_bubble_sort_odd_even<<<gridSize, blockSize>>>(d_arr, size);\n",
        "// Copy sorted array back to host\n",
        "cudaMemcpy(arr.data(), d_arr, size * sizeof(int),\n",
        "cudaMemcpyDeviceToHost);\n",
        "cout<<\"sorted array\"<<endl;\n",
        "for(int i=0;i<size;i++){\n",
        "cout<<arr[i]<<\" \";\n",
        "}\n",
        "cout<<endl;\n",
        "cudaFree(d_arr);\n",
        "}\n",
        "int main() {\n",
        "vector<int> arr = {5,4 , 3,2 ,1 ,0,6,9,7 };\n",
        "double start, end;\n",
        "// Measure performance of parallel bubble sort using odd-even transposition\n",
        "start = chrono::duration_cast<chrono::milliseconds>(chrono::system_clock::now().time_since_epoch()).count();\n",
        "bubble_sort_odd_even(arr);\n",
        "end = chrono::duration_cast<chrono::milliseconds>(chrono::system_clock::now().time_since_epoch()).count();\n",
        "cout << \"Parallel bubble sort using odd-even transposition time: \" << end - start << \" milliseconds\" << endl;\n",
        "return 0;\n",
        "}\n"
      ]
    },
    {
      "cell_type": "code",
      "source": [
        "!nvcc bubble.cu -o bubble"
      ],
      "metadata": {
        "id": "cRbSwbUDrD6Z"
      },
      "execution_count": 2,
      "outputs": []
    },
    {
      "cell_type": "code",
      "source": [
        "!./bubble"
      ],
      "metadata": {
        "colab": {
          "base_uri": "https://localhost:8080/"
        },
        "id": "4EJ4-nogrLOm",
        "outputId": "f20cd16c-83fa-4dc4-a2b0-2d35b8234f2f"
      },
      "execution_count": 3,
      "outputs": [
        {
          "output_type": "stream",
          "name": "stdout",
          "text": [
            "sorted array\n",
            "0 1 2 3 4 5 6 7 9 \n",
            "Parallel bubble sort using odd-even transposition time: 374 milliseconds\n"
          ]
        }
      ]
    },
    {
      "cell_type": "code",
      "source": [],
      "metadata": {
        "id": "fFMTkK-8rNKQ"
      },
      "execution_count": null,
      "outputs": []
    }
  ]
}