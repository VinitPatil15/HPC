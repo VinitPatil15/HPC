{
  "nbformat": 4,
  "nbformat_minor": 0,
  "metadata": {
    "colab": {
      "provenance": [],
      "gpuType": "T4"
    },
    "kernelspec": {
      "name": "python3",
      "display_name": "Python 3"
    },
    "language_info": {
      "name": "python"
    },
    "accelerator": "GPU"
  },
  "cells": [
    {
      "cell_type": "code",
      "execution_count": 3,
      "metadata": {
        "colab": {
          "base_uri": "https://localhost:8080/"
        },
        "id": "ylD587CZ7DlV",
        "outputId": "70c02740-c7b0-4ae1-958d-fd7f953a57a2"
      },
      "outputs": [
        {
          "output_type": "stream",
          "name": "stdout",
          "text": [
            "Writing bfs.cu\n"
          ]
        }
      ],
      "source": [
        "%%writefile bfs.cu\n",
        "#include <iostream>\n",
        "#include <queue>\n",
        "#include <vector>\n",
        "#include <omp.h>\n",
        "using namespace std;\n",
        "int main() {\n",
        "int num_vertices, num_edges, source;\n",
        "cout << \"Enter number of vertices, edges, and source node: \";\n",
        "cin >> num_vertices >> num_edges >> source;\n",
        "// Input validation\n",
        "if (source < 1 || source > num_vertices) {\n",
        "cout << \"Invalid source node!\" << endl;\n",
        "return 1;\n",
        "}\n",
        "vector<vector<int>> adj_list(num_vertices + 1);\n",
        "for (int i = 0; i < num_edges; i++) {\n",
        "int u, v;\n",
        "cin >> u >> v;\n",
        "// Input validation for edges\n",
        "if (u < 1 || u > num_vertices || v < 1 || v > num_vertices) {\n",
        "cout << \"Invalid edge: \" << u << \" \" << v << endl;\n",
        "return 1;\n",
        "}\n",
        "adj_list[u].push_back(v);\n",
        "adj_list[v].push_back(u);\n",
        "}\n",
        "queue<int> q;\n",
        "vector<bool> visited(num_vertices + 1, false);\n",
        "q.push(source);\n",
        "visited[source] = true;\n",
        "while (!q.empty()) {\n",
        "int curr_vertex = q.front();\n",
        "q.pop();\n",
        "cout << curr_vertex << \" \";\n",
        "// Sequential loop for neighbors\n",
        "for (int i = 0; i < adj_list[curr_vertex].size(); i++) {\n",
        "int neighbour = adj_list[curr_vertex][i];\n",
        "if (!visited[neighbour]) {\n",
        "visited[neighbour] = true;\n",
        "q.push(neighbour);\n",
        "}\n",
        "}\n",
        "}\n",
        "cout << endl;\n",
        "return 0;\n",
        "}\n"
      ]
    },
    {
      "cell_type": "code",
      "source": [
        "!nvcc bfs.cu -o bfs"
      ],
      "metadata": {
        "id": "7NBrLcmz7NQI"
      },
      "execution_count": 4,
      "outputs": []
    },
    {
      "cell_type": "code",
      "source": [
        "!./bfs"
      ],
      "metadata": {
        "colab": {
          "base_uri": "https://localhost:8080/"
        },
        "id": "WoIHKz_C7c0K",
        "outputId": "eaf84ea9-b496-49cd-b083-f2936b95214d"
      },
      "execution_count": 5,
      "outputs": [
        {
          "output_type": "stream",
          "name": "stdout",
          "text": [
            "Enter number of vertices, edges, and source node: 6 5 3\n",
            "3 2\n",
            "3 5\n",
            "2 1\n",
            "5 4\n",
            "5 6\n",
            "3 2 5 1 4 6 \n"
          ]
        }
      ]
    },
    {
      "cell_type": "code",
      "source": [],
      "metadata": {
        "id": "GpajvUtZ7geb"
      },
      "execution_count": null,
      "outputs": []
    }
  ]
}