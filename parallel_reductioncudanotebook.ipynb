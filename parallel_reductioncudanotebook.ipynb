{
  "nbformat": 4,
  "nbformat_minor": 0,
  "metadata": {
    "colab": {
      "provenance": [],
      "gpuType": "T4"
    },
    "kernelspec": {
      "name": "python3",
      "display_name": "Python 3"
    },
    "language_info": {
      "name": "python"
    },
    "accelerator": "GPU"
  },
  "cells": [
    {
      "cell_type": "code",
      "execution_count": 1,
      "metadata": {
        "colab": {
          "base_uri": "https://localhost:8080/"
        },
        "id": "2udcrM-Ml9xw",
        "outputId": "772ad91e-26e6-4b3c-bafd-ac92b247ee2b"
      },
      "outputs": [
        {
          "output_type": "stream",
          "name": "stdout",
          "text": [
            "Writing parallel_redu.cu\n"
          ]
        }
      ],
      "source": [
        "%%writefile parallel_redu.cu\n",
        "#include <iostream>\n",
        "#include <vector>\n",
        "#include <climits>\n",
        "__global__ void min_reduction_kernel(int* arr, int size, int* result) {\n",
        "int tid = blockIdx.x * blockDim.x + threadIdx.x;\n",
        "if (tid < size) {\n",
        "atomicMin(result, arr[tid]);\n",
        "}\n",
        "}\n",
        "__global__ void max_reduction_kernel(int* arr, int size, int* result) {\n",
        "int tid = blockIdx.x * blockDim.x + threadIdx.x;\n",
        "if (tid < size) {\n",
        "atomicMax(result, arr[tid]);\n",
        "}\n",
        "}\n",
        "__global__ void sum_reduction_kernel(int* arr, int size, int* result) {\n",
        "int tid = blockIdx.x * blockDim.x + threadIdx.x;\n",
        "if (tid < size) {\n",
        "atomicAdd(result, arr[tid]);\n",
        "}\n",
        "}\n",
        "__global__ void average_reduction_kernel(int* arr, int size, int* sum) {\n",
        "int tid = blockIdx.x * blockDim.x + threadIdx.x;\n",
        "if (tid < size) {\n",
        "atomicAdd(sum, arr[tid]);\n",
        "}\n",
        "}\n",
        "int main() {\n",
        "int size;\n",
        "std::cout << \"Enter the size of the array: \";\n",
        "std::cin >> size;\n",
        "std::vector<int> arr(size);\n",
        "for (int i = 0; i < size; ++i) {\n",
        "std::cout << \"Enter element \" << i << \": \";\n",
        "std::cin >> arr[i];\n",
        "}\n",
        "int* d_arr;\n",
        "int* d_result;\n",
        "int result_min = INT_MAX;\n",
        "int result_max = INT_MIN;\n",
        "int result_sum = 0;\n",
        "// Allocate memory on the device\n",
        "cudaMalloc(&d_arr, size * sizeof(int));\n",
        "cudaMalloc(&d_result, sizeof(int));\n",
        "// Copy data from host to device\n",
        "cudaMemcpy(d_arr, arr.data(), size * sizeof(int),\n",
        "cudaMemcpyHostToDevice);\n",
        "cudaMemcpy(d_result, &result_min, sizeof(int), cudaMemcpyHostToDevice);\n",
        "// Perform min reduction\n",
        "min_reduction_kernel<<<(size + 255) / 256, 256>>>(d_arr, size,\n",
        "d_result);\n",
        "cudaMemcpy(&result_min, d_result, sizeof(int), cudaMemcpyDeviceToHost);\n",
        "std::cout << \"Minimum value: \" << result_min << std::endl;\n",
        "// Perform max reduction\n",
        "cudaMemcpy(d_result, &result_max, sizeof(int), cudaMemcpyHostToDevice);\n",
        "max_reduction_kernel<<<(size + 255) / 256, 256>>>(d_arr, size,\n",
        "d_result);\n",
        "cudaMemcpy(&result_max, d_result, sizeof(int), cudaMemcpyDeviceToHost);\n",
        "std::cout << \"Maximum value: \" << result_max << std::endl;\n",
        "// Perform sum reduction\n",
        "cudaMemcpy(d_result, &result_sum, sizeof(int), cudaMemcpyHostToDevice);\n",
        "sum_reduction_kernel<<<(size + 255) / 256, 256>>>(d_arr, size,\n",
        "d_result);\n",
        "cudaMemcpy(&result_sum, d_result, sizeof(int), cudaMemcpyDeviceToHost);\n",
        "std::cout << \"Sum: \" << result_sum << std::endl;\n",
        "// Perform average reduction on CPU side\n",
        "double average = static_cast<double>(result_sum) / size;\n",
        "std::cout << \"Average: \" << average << std::endl;\n",
        "// Free device memory\n",
        "cudaFree(d_arr);\n",
        "cudaFree(d_result);\n",
        "return 0;\n",
        "}"
      ]
    },
    {
      "cell_type": "code",
      "source": [
        "!nvcc parallel_redu.cu -o parallel_redu"
      ],
      "metadata": {
        "id": "Zlcrd14JmXpR"
      },
      "execution_count": 2,
      "outputs": []
    },
    {
      "cell_type": "code",
      "source": [
        "!./parallel_redu"
      ],
      "metadata": {
        "colab": {
          "base_uri": "https://localhost:8080/"
        },
        "id": "MVshn_bymc0_",
        "outputId": "4b6e5f08-ec4c-4c0c-ff07-e5f667afc3bd"
      },
      "execution_count": 3,
      "outputs": [
        {
          "output_type": "stream",
          "name": "stdout",
          "text": [
            "Enter the size of the array: 5\n",
            "Enter element 0: 5\n",
            "Enter element 1: 4\n",
            "Enter element 2: 8\n",
            "Enter element 3: 6\n",
            "Enter element 4: 3\n",
            "Minimum value: 3\n",
            "Maximum value: 8\n",
            "Sum: 26\n",
            "Average: 5.2\n"
          ]
        }
      ]
    },
    {
      "cell_type": "code",
      "source": [],
      "metadata": {
        "id": "XcpHF1sumfs2"
      },
      "execution_count": null,
      "outputs": []
    }
  ]
}