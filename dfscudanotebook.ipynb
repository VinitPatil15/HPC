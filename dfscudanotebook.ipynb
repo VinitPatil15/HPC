{
  "nbformat": 4,
  "nbformat_minor": 0,
  "metadata": {
    "colab": {
      "provenance": [],
      "gpuType": "T4"
    },
    "kernelspec": {
      "name": "python3",
      "display_name": "Python 3"
    },
    "language_info": {
      "name": "python"
    },
    "accelerator": "GPU"
  },
  "cells": [
    {
      "cell_type": "code",
      "execution_count": 1,
      "metadata": {
        "colab": {
          "base_uri": "https://localhost:8080/"
        },
        "id": "nnbh-35fr1OK",
        "outputId": "0edbb162-5373-4431-a4d6-3e2a85bd4d94"
      },
      "outputs": [
        {
          "output_type": "stream",
          "name": "stdout",
          "text": [
            "Writing dfs.cu\n"
          ]
        }
      ],
      "source": [
        "%%writefile dfs.cu\n",
        "#include <iostream>\n",
        "#include <vector>\n",
        "using namespace std;\n",
        "const int MAXN = 1e5;\n",
        "vector<int> adj[MAXN+5]; // adjacency list\n",
        "bool visited[MAXN+5]; // mark visited nodes\n",
        "void dfs(int node) {\n",
        "visited[node] = true;\n",
        "cout << node << \" \"; // Print the visited node here\n",
        "for (int i = 0; i < adj[node].size(); i++) {\n",
        "int next_node = adj[node][i];\n",
        "if (!visited[next_node]) {\n",
        "dfs(next_node);\n",
        "}\n",
        "}\n",
        "}\n",
        "int main() {\n",
        "cout << \"Please enter nodes and edges: \";\n",
        "int n, m; // number of nodes and edges\n",
        "cin >> n >> m;\n",
        "for (int i = 1; i <= m; i++) {\n",
        "int u, v; // edge between u and v\n",
        "cin >> u >> v;\n",
        "adj[u].push_back(v);\n",
        "adj[v].push_back(u);\n",
        "}\n",
        "int start_node; // start node of DFS\n",
        "cout << \"Enter the start node for DFS: \";\n",
        "cin >> start_node;\n",
        "dfs(start_node);\n",
        "cout << endl; // Print a newline after DFS traversal\n",
        "return 0;\n",
        "}\n"
      ]
    },
    {
      "cell_type": "code",
      "source": [
        "!nvcc dfs.cu -o dfs"
      ],
      "metadata": {
        "id": "A19gtoNasOvH"
      },
      "execution_count": 2,
      "outputs": []
    },
    {
      "cell_type": "code",
      "source": [
        "!./dfs"
      ],
      "metadata": {
        "colab": {
          "base_uri": "https://localhost:8080/"
        },
        "id": "gfR4WWcasWLX",
        "outputId": "3d3f859a-94a8-486c-90e8-2a0f81235477"
      },
      "execution_count": 3,
      "outputs": [
        {
          "output_type": "stream",
          "name": "stdout",
          "text": [
            "Please enter nodes and edges: 5 4\n",
            "1 2\n",
            "1 3\n",
            "2 4\n",
            "3 5\n",
            "Enter the start node for DFS: 1\n",
            "1 2 4 3 5 \n"
          ]
        }
      ]
    },
    {
      "cell_type": "code",
      "source": [],
      "metadata": {
        "id": "mAycWsaysZUe"
      },
      "execution_count": null,
      "outputs": []
    }
  ]
}